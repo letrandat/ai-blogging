{
 "cells": [
  {
   "cell_type": "raw",
   "id": "b8ca3937-cbf6-4c70-a406-90833b8badc6",
   "metadata": {},
   "source": [
    "---\n",
    "title: \"Learn AI from course.fast.ai\"\n",
    "format: \n",
    "  html:\n",
    "    code-fold: true\n",
    "jupyter: python3\n",
    "---"
   ]
  },
  {
   "cell_type": "markdown",
   "id": "20216644-7797-42c4-93b3-f591b1cc037a",
   "metadata": {},
   "source": [
    "# Hide Me\n",
    "\n",
    "Wrote about what I learn so far.\n",
    "Explain it was easier than I thought it would be.\n",
    "Explain I believe we should learn ai."
   ]
  },
  {
   "cell_type": "code",
   "execution_count": null,
   "id": "c1e64b56-aa8d-4666-8396-a72052944f18",
   "metadata": {},
   "outputs": [],
   "source": []
  }
 ],
 "metadata": {
  "kernelspec": {
   "display_name": "Python 3 (ipykernel)",
   "language": "python",
   "name": "python3"
  },
  "language_info": {
   "codemirror_mode": {
    "name": "ipython",
    "version": 3
   },
   "file_extension": ".py",
   "mimetype": "text/x-python",
   "name": "python",
   "nbconvert_exporter": "python",
   "pygments_lexer": "ipython3",
   "version": "3.12.4"
  }
 },
 "nbformat": 4,
 "nbformat_minor": 5
}
